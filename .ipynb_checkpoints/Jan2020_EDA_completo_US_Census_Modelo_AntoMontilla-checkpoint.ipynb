{
 "cells": [
  {
   "cell_type": "code",
   "execution_count": null,
   "metadata": {},
   "outputs": [],
   "source": []
  },
  {
   "cell_type": "markdown",
   "metadata": {},
   "source": [
    "# EDA US Census\n",
    "### Antonio Montilla\n",
    "### date: 22 - 11 - 2019\n",
    "\n",
    "Basado en la última práctica EDA Titanic en Python (el fichero original se encuentra en Google Drive), deben realizar una EDA completo para este dataset:\n",
    "\n",
    "https://archive.ics.uci.edu/ml/datasets/adult\n",
    "\n",
    "**IMPORTANTE**:\n",
    "Los pasos a realizar son:\n",
    "- exploración\n",
    "- limpieza\n",
    "- discretización\n",
    "- creación nuevos atributos\n",
    "- visualización con los gráficos de ggplot2 de las variables que consideran importantes\n",
    "- conclusiones justificadas sobre vuestra observaciones\n",
    "- posibilidad de agregar nuevos escenarios posibles (nuevas fuentes de datos, tipo de ingestas,\n",
    "otros aspectos de análisis, etc.)\n",
    "- Intentar crear el output de salida en formato HTML (buscar info de knit y sus dependencias)"
   ]
  },
  {
   "cell_type": "code",
   "execution_count": 1,
   "metadata": {},
   "outputs": [],
   "source": [
    "#0) Importando librerias a utilizar\n",
    "import numpy as np\n",
    "import pandas as pd\n",
    "from pandas import Series, DataFrame\n",
    "import matplotlib as mpl\n",
    "import matplotlib.pyplot as plt\n",
    "from matplotlib import rc\n",
    "import seaborn as sns\n",
    "import io\n",
    "import requests"
   ]
  },
  {
   "cell_type": "code",
   "execution_count": 2,
   "metadata": {},
   "outputs": [],
   "source": [
    "#1) Importando database\n",
    "url = 'http://archive.ics.uci.edu/ml/machine-learning-databases/adult/adult.data'\n",
    "s = requests.get(url).content\n",
    "df_datosAdu = pd.read_csv(io.StringIO(s.decode('utf-8')))"
   ]
  },
  {
   "cell_type": "code",
   "execution_count": 3,
   "metadata": {},
   "outputs": [],
   "source": [
    "#2) Agregando etiquetas a columnas\n",
    "df_datosAdu.columns = [\"age\",\"workclass\",\"fnlwgt\",\"education\",\"education-num\",\"marital-status\",\"occupation\",\"relationship\",\"race\",\"sex\",\"capital-gain\",\"capital-loss\",\"hour-per-week\",\"native-country\",\"income\"]"
   ]
  },
  {
   "cell_type": "code",
   "execution_count": 4,
   "metadata": {},
   "outputs": [],
   "source": [
    "#3) Creando backup del database\n",
    "df_datos_backup = df_datosAdu"
   ]
  },
  {
   "cell_type": "code",
   "execution_count": 5,
   "metadata": {},
   "outputs": [
    {
     "data": {
      "text/html": [
       "<div>\n",
       "<style scoped>\n",
       "    .dataframe tbody tr th:only-of-type {\n",
       "        vertical-align: middle;\n",
       "    }\n",
       "\n",
       "    .dataframe tbody tr th {\n",
       "        vertical-align: top;\n",
       "    }\n",
       "\n",
       "    .dataframe thead th {\n",
       "        text-align: right;\n",
       "    }\n",
       "</style>\n",
       "<table border=\"1\" class=\"dataframe\">\n",
       "  <thead>\n",
       "    <tr style=\"text-align: right;\">\n",
       "      <th></th>\n",
       "      <th>age</th>\n",
       "      <th>workclass</th>\n",
       "      <th>fnlwgt</th>\n",
       "      <th>education</th>\n",
       "      <th>education-num</th>\n",
       "      <th>marital-status</th>\n",
       "      <th>occupation</th>\n",
       "      <th>relationship</th>\n",
       "      <th>race</th>\n",
       "      <th>sex</th>\n",
       "      <th>capital-gain</th>\n",
       "      <th>capital-loss</th>\n",
       "      <th>hour-per-week</th>\n",
       "      <th>native-country</th>\n",
       "      <th>income</th>\n",
       "    </tr>\n",
       "  </thead>\n",
       "  <tbody>\n",
       "    <tr>\n",
       "      <th>0</th>\n",
       "      <td>50</td>\n",
       "      <td>Self-emp-not-inc</td>\n",
       "      <td>83311</td>\n",
       "      <td>Bachelors</td>\n",
       "      <td>13</td>\n",
       "      <td>Married-civ-spouse</td>\n",
       "      <td>Exec-managerial</td>\n",
       "      <td>Husband</td>\n",
       "      <td>White</td>\n",
       "      <td>Male</td>\n",
       "      <td>0</td>\n",
       "      <td>0</td>\n",
       "      <td>13</td>\n",
       "      <td>United-States</td>\n",
       "      <td>&lt;=50K</td>\n",
       "    </tr>\n",
       "    <tr>\n",
       "      <th>1</th>\n",
       "      <td>38</td>\n",
       "      <td>Private</td>\n",
       "      <td>215646</td>\n",
       "      <td>HS-grad</td>\n",
       "      <td>9</td>\n",
       "      <td>Divorced</td>\n",
       "      <td>Handlers-cleaners</td>\n",
       "      <td>Not-in-family</td>\n",
       "      <td>White</td>\n",
       "      <td>Male</td>\n",
       "      <td>0</td>\n",
       "      <td>0</td>\n",
       "      <td>40</td>\n",
       "      <td>United-States</td>\n",
       "      <td>&lt;=50K</td>\n",
       "    </tr>\n",
       "    <tr>\n",
       "      <th>2</th>\n",
       "      <td>53</td>\n",
       "      <td>Private</td>\n",
       "      <td>234721</td>\n",
       "      <td>11th</td>\n",
       "      <td>7</td>\n",
       "      <td>Married-civ-spouse</td>\n",
       "      <td>Handlers-cleaners</td>\n",
       "      <td>Husband</td>\n",
       "      <td>Black</td>\n",
       "      <td>Male</td>\n",
       "      <td>0</td>\n",
       "      <td>0</td>\n",
       "      <td>40</td>\n",
       "      <td>United-States</td>\n",
       "      <td>&lt;=50K</td>\n",
       "    </tr>\n",
       "    <tr>\n",
       "      <th>3</th>\n",
       "      <td>28</td>\n",
       "      <td>Private</td>\n",
       "      <td>338409</td>\n",
       "      <td>Bachelors</td>\n",
       "      <td>13</td>\n",
       "      <td>Married-civ-spouse</td>\n",
       "      <td>Prof-specialty</td>\n",
       "      <td>Wife</td>\n",
       "      <td>Black</td>\n",
       "      <td>Female</td>\n",
       "      <td>0</td>\n",
       "      <td>0</td>\n",
       "      <td>40</td>\n",
       "      <td>Cuba</td>\n",
       "      <td>&lt;=50K</td>\n",
       "    </tr>\n",
       "    <tr>\n",
       "      <th>4</th>\n",
       "      <td>37</td>\n",
       "      <td>Private</td>\n",
       "      <td>284582</td>\n",
       "      <td>Masters</td>\n",
       "      <td>14</td>\n",
       "      <td>Married-civ-spouse</td>\n",
       "      <td>Exec-managerial</td>\n",
       "      <td>Wife</td>\n",
       "      <td>White</td>\n",
       "      <td>Female</td>\n",
       "      <td>0</td>\n",
       "      <td>0</td>\n",
       "      <td>40</td>\n",
       "      <td>United-States</td>\n",
       "      <td>&lt;=50K</td>\n",
       "    </tr>\n",
       "    <tr>\n",
       "      <th>5</th>\n",
       "      <td>49</td>\n",
       "      <td>Private</td>\n",
       "      <td>160187</td>\n",
       "      <td>9th</td>\n",
       "      <td>5</td>\n",
       "      <td>Married-spouse-absent</td>\n",
       "      <td>Other-service</td>\n",
       "      <td>Not-in-family</td>\n",
       "      <td>Black</td>\n",
       "      <td>Female</td>\n",
       "      <td>0</td>\n",
       "      <td>0</td>\n",
       "      <td>16</td>\n",
       "      <td>Jamaica</td>\n",
       "      <td>&lt;=50K</td>\n",
       "    </tr>\n",
       "    <tr>\n",
       "      <th>6</th>\n",
       "      <td>52</td>\n",
       "      <td>Self-emp-not-inc</td>\n",
       "      <td>209642</td>\n",
       "      <td>HS-grad</td>\n",
       "      <td>9</td>\n",
       "      <td>Married-civ-spouse</td>\n",
       "      <td>Exec-managerial</td>\n",
       "      <td>Husband</td>\n",
       "      <td>White</td>\n",
       "      <td>Male</td>\n",
       "      <td>0</td>\n",
       "      <td>0</td>\n",
       "      <td>45</td>\n",
       "      <td>United-States</td>\n",
       "      <td>&gt;50K</td>\n",
       "    </tr>\n",
       "    <tr>\n",
       "      <th>7</th>\n",
       "      <td>31</td>\n",
       "      <td>Private</td>\n",
       "      <td>45781</td>\n",
       "      <td>Masters</td>\n",
       "      <td>14</td>\n",
       "      <td>Never-married</td>\n",
       "      <td>Prof-specialty</td>\n",
       "      <td>Not-in-family</td>\n",
       "      <td>White</td>\n",
       "      <td>Female</td>\n",
       "      <td>14084</td>\n",
       "      <td>0</td>\n",
       "      <td>50</td>\n",
       "      <td>United-States</td>\n",
       "      <td>&gt;50K</td>\n",
       "    </tr>\n",
       "    <tr>\n",
       "      <th>8</th>\n",
       "      <td>42</td>\n",
       "      <td>Private</td>\n",
       "      <td>159449</td>\n",
       "      <td>Bachelors</td>\n",
       "      <td>13</td>\n",
       "      <td>Married-civ-spouse</td>\n",
       "      <td>Exec-managerial</td>\n",
       "      <td>Husband</td>\n",
       "      <td>White</td>\n",
       "      <td>Male</td>\n",
       "      <td>5178</td>\n",
       "      <td>0</td>\n",
       "      <td>40</td>\n",
       "      <td>United-States</td>\n",
       "      <td>&gt;50K</td>\n",
       "    </tr>\n",
       "    <tr>\n",
       "      <th>9</th>\n",
       "      <td>37</td>\n",
       "      <td>Private</td>\n",
       "      <td>280464</td>\n",
       "      <td>Some-college</td>\n",
       "      <td>10</td>\n",
       "      <td>Married-civ-spouse</td>\n",
       "      <td>Exec-managerial</td>\n",
       "      <td>Husband</td>\n",
       "      <td>Black</td>\n",
       "      <td>Male</td>\n",
       "      <td>0</td>\n",
       "      <td>0</td>\n",
       "      <td>80</td>\n",
       "      <td>United-States</td>\n",
       "      <td>&gt;50K</td>\n",
       "    </tr>\n",
       "  </tbody>\n",
       "</table>\n",
       "</div>"
      ],
      "text/plain": [
       "   age          workclass  fnlwgt      education  education-num  \\\n",
       "0   50   Self-emp-not-inc   83311      Bachelors             13   \n",
       "1   38            Private  215646        HS-grad              9   \n",
       "2   53            Private  234721           11th              7   \n",
       "3   28            Private  338409      Bachelors             13   \n",
       "4   37            Private  284582        Masters             14   \n",
       "5   49            Private  160187            9th              5   \n",
       "6   52   Self-emp-not-inc  209642        HS-grad              9   \n",
       "7   31            Private   45781        Masters             14   \n",
       "8   42            Private  159449      Bachelors             13   \n",
       "9   37            Private  280464   Some-college             10   \n",
       "\n",
       "           marital-status          occupation    relationship    race  \\\n",
       "0      Married-civ-spouse     Exec-managerial         Husband   White   \n",
       "1                Divorced   Handlers-cleaners   Not-in-family   White   \n",
       "2      Married-civ-spouse   Handlers-cleaners         Husband   Black   \n",
       "3      Married-civ-spouse      Prof-specialty            Wife   Black   \n",
       "4      Married-civ-spouse     Exec-managerial            Wife   White   \n",
       "5   Married-spouse-absent       Other-service   Not-in-family   Black   \n",
       "6      Married-civ-spouse     Exec-managerial         Husband   White   \n",
       "7           Never-married      Prof-specialty   Not-in-family   White   \n",
       "8      Married-civ-spouse     Exec-managerial         Husband   White   \n",
       "9      Married-civ-spouse     Exec-managerial         Husband   Black   \n",
       "\n",
       "       sex  capital-gain  capital-loss  hour-per-week  native-country  income  \n",
       "0     Male             0             0             13   United-States   <=50K  \n",
       "1     Male             0             0             40   United-States   <=50K  \n",
       "2     Male             0             0             40   United-States   <=50K  \n",
       "3   Female             0             0             40            Cuba   <=50K  \n",
       "4   Female             0             0             40   United-States   <=50K  \n",
       "5   Female             0             0             16         Jamaica   <=50K  \n",
       "6     Male             0             0             45   United-States    >50K  \n",
       "7   Female         14084             0             50   United-States    >50K  \n",
       "8     Male          5178             0             40   United-States    >50K  \n",
       "9     Male             0             0             80   United-States    >50K  "
      ]
     },
     "execution_count": 5,
     "metadata": {},
     "output_type": "execute_result"
    }
   ],
   "source": [
    "#4) Exploración inicial del database\n",
    "#Encabezado de los primeros 10 observaciones\n",
    "df_datosAdu.head(10)"
   ]
  },
  {
   "cell_type": "code",
   "execution_count": 6,
   "metadata": {},
   "outputs": [
    {
     "name": "stdout",
     "output_type": "stream",
     "text": [
      "<class 'pandas.core.frame.DataFrame'>\n",
      "RangeIndex: 32560 entries, 0 to 32559\n",
      "Data columns (total 15 columns):\n",
      "age               32560 non-null int64\n",
      "workclass         32560 non-null object\n",
      "fnlwgt            32560 non-null int64\n",
      "education         32560 non-null object\n",
      "education-num     32560 non-null int64\n",
      "marital-status    32560 non-null object\n",
      "occupation        32560 non-null object\n",
      "relationship      32560 non-null object\n",
      "race              32560 non-null object\n",
      "sex               32560 non-null object\n",
      "capital-gain      32560 non-null int64\n",
      "capital-loss      32560 non-null int64\n",
      "hour-per-week     32560 non-null int64\n",
      "native-country    32560 non-null object\n",
      "income            32560 non-null object\n",
      "dtypes: int64(6), object(9)\n",
      "memory usage: 3.7+ MB\n"
     ]
    }
   ],
   "source": [
    "#Buscamos las informaciones de ns dataset\n",
    "df_datosAdu.info()"
   ]
  },
  {
   "cell_type": "markdown",
   "metadata": {},
   "source": [
    "#### Primeras observaciones:\n",
    "* La database contiene 15 variables y 32.561 observaciones\n",
    "* Las variables contienen información socieconómicas de individuos en USA, donde el ingreso anual (referencia $50k) se especifica en función al genero, raza, estado civil, educación, entre otros.\n",
    "* Las siguientes variables son caracteres y (en principio) requerirán factorización: 'workclass', 'education', 'marital-status', 'married-civ-spouse', 'occupation', 'relationship', 'race', 'sex', 'native-country'"
   ]
  },
  {
   "cell_type": "code",
   "execution_count": 7,
   "metadata": {},
   "outputs": [
    {
     "data": {
      "text/html": [
       "<div>\n",
       "<style scoped>\n",
       "    .dataframe tbody tr th:only-of-type {\n",
       "        vertical-align: middle;\n",
       "    }\n",
       "\n",
       "    .dataframe tbody tr th {\n",
       "        vertical-align: top;\n",
       "    }\n",
       "\n",
       "    .dataframe thead th {\n",
       "        text-align: right;\n",
       "    }\n",
       "</style>\n",
       "<table border=\"1\" class=\"dataframe\">\n",
       "  <thead>\n",
       "    <tr style=\"text-align: right;\">\n",
       "      <th></th>\n",
       "      <th>age</th>\n",
       "      <th>fnlwgt</th>\n",
       "      <th>education-num</th>\n",
       "      <th>capital-gain</th>\n",
       "      <th>capital-loss</th>\n",
       "      <th>hour-per-week</th>\n",
       "    </tr>\n",
       "  </thead>\n",
       "  <tbody>\n",
       "    <tr>\n",
       "      <th>count</th>\n",
       "      <td>32560.000000</td>\n",
       "      <td>3.256000e+04</td>\n",
       "      <td>32560.000000</td>\n",
       "      <td>32560.000000</td>\n",
       "      <td>32560.000000</td>\n",
       "      <td>32560.000000</td>\n",
       "    </tr>\n",
       "    <tr>\n",
       "      <th>mean</th>\n",
       "      <td>38.581634</td>\n",
       "      <td>1.897818e+05</td>\n",
       "      <td>10.080590</td>\n",
       "      <td>1077.615172</td>\n",
       "      <td>87.306511</td>\n",
       "      <td>40.437469</td>\n",
       "    </tr>\n",
       "    <tr>\n",
       "      <th>std</th>\n",
       "      <td>13.640642</td>\n",
       "      <td>1.055498e+05</td>\n",
       "      <td>2.572709</td>\n",
       "      <td>7385.402999</td>\n",
       "      <td>402.966116</td>\n",
       "      <td>12.347618</td>\n",
       "    </tr>\n",
       "    <tr>\n",
       "      <th>min</th>\n",
       "      <td>17.000000</td>\n",
       "      <td>1.228500e+04</td>\n",
       "      <td>1.000000</td>\n",
       "      <td>0.000000</td>\n",
       "      <td>0.000000</td>\n",
       "      <td>1.000000</td>\n",
       "    </tr>\n",
       "    <tr>\n",
       "      <th>25%</th>\n",
       "      <td>28.000000</td>\n",
       "      <td>1.178315e+05</td>\n",
       "      <td>9.000000</td>\n",
       "      <td>0.000000</td>\n",
       "      <td>0.000000</td>\n",
       "      <td>40.000000</td>\n",
       "    </tr>\n",
       "    <tr>\n",
       "      <th>50%</th>\n",
       "      <td>37.000000</td>\n",
       "      <td>1.783630e+05</td>\n",
       "      <td>10.000000</td>\n",
       "      <td>0.000000</td>\n",
       "      <td>0.000000</td>\n",
       "      <td>40.000000</td>\n",
       "    </tr>\n",
       "    <tr>\n",
       "      <th>75%</th>\n",
       "      <td>48.000000</td>\n",
       "      <td>2.370545e+05</td>\n",
       "      <td>12.000000</td>\n",
       "      <td>0.000000</td>\n",
       "      <td>0.000000</td>\n",
       "      <td>45.000000</td>\n",
       "    </tr>\n",
       "    <tr>\n",
       "      <th>max</th>\n",
       "      <td>90.000000</td>\n",
       "      <td>1.484705e+06</td>\n",
       "      <td>16.000000</td>\n",
       "      <td>99999.000000</td>\n",
       "      <td>4356.000000</td>\n",
       "      <td>99.000000</td>\n",
       "    </tr>\n",
       "  </tbody>\n",
       "</table>\n",
       "</div>"
      ],
      "text/plain": [
       "                age        fnlwgt  education-num  capital-gain  capital-loss  \\\n",
       "count  32560.000000  3.256000e+04   32560.000000  32560.000000  32560.000000   \n",
       "mean      38.581634  1.897818e+05      10.080590   1077.615172     87.306511   \n",
       "std       13.640642  1.055498e+05       2.572709   7385.402999    402.966116   \n",
       "min       17.000000  1.228500e+04       1.000000      0.000000      0.000000   \n",
       "25%       28.000000  1.178315e+05       9.000000      0.000000      0.000000   \n",
       "50%       37.000000  1.783630e+05      10.000000      0.000000      0.000000   \n",
       "75%       48.000000  2.370545e+05      12.000000      0.000000      0.000000   \n",
       "max       90.000000  1.484705e+06      16.000000  99999.000000   4356.000000   \n",
       "\n",
       "       hour-per-week  \n",
       "count   32560.000000  \n",
       "mean       40.437469  \n",
       "std        12.347618  \n",
       "min         1.000000  \n",
       "25%        40.000000  \n",
       "50%        40.000000  \n",
       "75%        45.000000  \n",
       "max        99.000000  "
      ]
     },
     "execution_count": 7,
     "metadata": {},
     "output_type": "execute_result"
    }
   ],
   "source": [
    "#Estadísticas básicas de columnas numéricas\n",
    "df_datosAdu.describe()"
   ]
  },
  {
   "cell_type": "markdown",
   "metadata": {},
   "source": [
    "* La columna _fnlwgt_ es un factor de ajuste estadistico (mediendo peso de la muestra) y por lo tanto no será usado en el EDA\n",
    "* De igual manera _capital-gain_ y _capital-loss_ son columnas que continen variación de posición activos de activo que no serán usadas en el EDA"
   ]
  },
  {
   "cell_type": "code",
   "execution_count": 8,
   "metadata": {},
   "outputs": [],
   "source": [
    "#Eliminando columnas que no se utilizaran en el análisis: _fnlwgt_, _capital-gain_ y _capital-loss_\n",
    "df_datosAdu = df_datosAdu.drop(['fnlwgt', 'capital-gain', 'capital-loss'], axis=1)"
   ]
  },
  {
   "cell_type": "markdown",
   "metadata": {},
   "source": [
    "#### Posibles preguntas a investigar en el EDA:\n",
    "* El nivel educativo es un determinante del nivel de ingreso?\n",
    "* La raza importa en el nivel de ingreso?\n",
    "* Y el pais de origen?\n",
    "* Las personas casadas tienden a tener menos ingresos?\n",
    "* Realmente hay dicriminación de género en cuanto al ingreso en USA?\n",
    "* Se observa una brecha de ingreso entre trabajadores del Estado vs. privados?\n",
    "* Y en terminos de autónomos y empleados?"
   ]
  },
  {
   "cell_type": "code",
   "execution_count": 22,
   "metadata": {},
   "outputs": [
    {
     "data": {
      "text/plain": [
       "age               0\n",
       "workclass         0\n",
       "education         0\n",
       "education-num     0\n",
       "marital-status    0\n",
       "occupation        0\n",
       "relationship      0\n",
       "race              0\n",
       "sex               0\n",
       "hour-per-week     0\n",
       "native-country    0\n",
       "income            0\n",
       "dtype: int64"
      ]
     },
     "execution_count": 22,
     "metadata": {},
     "output_type": "execute_result"
    }
   ],
   "source": [
    "#5) Limpieza de los datos: Precensia de NAs\n",
    "valores_na = df_datosAdu.isna().sum()\n",
    "valores_na"
   ]
  },
  {
   "cell_type": "markdown",
   "metadata": {},
   "source": [
    "La exploración confirma no precensia de NAs en el df"
   ]
  },
  {
   "cell_type": "code",
   "execution_count": 23,
   "metadata": {},
   "outputs": [
    {
     "data": {
      "text/plain": [
       "age               0\n",
       "workclass         0\n",
       "education         0\n",
       "education-num     0\n",
       "marital-status    0\n",
       "occupation        0\n",
       "relationship      0\n",
       "race              0\n",
       "sex               0\n",
       "hour-per-week     0\n",
       "native-country    0\n",
       "income            0\n",
       "dtype: int64"
      ]
     },
     "execution_count": 23,
     "metadata": {},
     "output_type": "execute_result"
    }
   ],
   "source": [
    "#6) Limpieza de los datos: Precensia de missing values\n",
    "valores_null = df_datosAdu.isnull().sum()\n",
    "valores_null"
   ]
  },
  {
   "cell_type": "markdown",
   "metadata": {},
   "source": [
    "La exploración confirma no precensia de valores nulos en el df"
   ]
  },
  {
   "cell_type": "code",
   "execution_count": 9,
   "metadata": {},
   "outputs": [
    {
     "data": {
      "text/plain": [
       " Private             22696\n",
       " Self-emp-not-inc     2541\n",
       " Local-gov            2093\n",
       " ?                    1836\n",
       " State-gov            1297\n",
       " Self-emp-inc         1116\n",
       " Federal-gov           960\n",
       " Without-pay            14\n",
       " Never-worked            7\n",
       "Name: workclass, dtype: int64"
      ]
     },
     "execution_count": 9,
     "metadata": {},
     "output_type": "execute_result"
    }
   ],
   "source": [
    "#7) Discretrizando las variables\n",
    "#Primer paso identificar columnas que podrian ser factorizadas (string que no contengan excesivos datos únicos)\n",
    "pd.value_counts(df_datosAdu['workclass'])\n",
    "#Segundo: factorizar variable por variable"
   ]
  },
  {
   "cell_type": "code",
   "execution_count": 12,
   "metadata": {},
   "outputs": [],
   "source": [
    "#Creación de nuevos atributos\n",
    "#Pais de procedencia\n",
    "#A partir de 'native-country': nueva columna 'US_native' tomando 1 si individuo es originario de USA y 0 si no\n",
    "df_datosAdu['US_native'] = np.where(df_datosAdu['native-country']==' United-States', 1, 0)\n",
    "#Y ahora eliminamos 'native counry'\n",
    "df_datosAdu = df_datosAdu.drop('native-country', axis=1)"
   ]
  },
  {
   "cell_type": "code",
   "execution_count": 13,
   "metadata": {},
   "outputs": [],
   "source": [
    "#Income\n",
    "#A partir de _income_: nueva columna 'Income_50' que sea 1 si ingreso es '>50' o 0 si '<50' \n",
    "df_datosAdu['Income_50'] = np.where(df_datosAdu['income']==' >50K', 1, 0)\n",
    "#Y ahora eliminamos 'income'\n",
    "df_datosAdu = df_datosAdu.drop('income', axis=1)"
   ]
  },
  {
   "cell_type": "code",
   "execution_count": 14,
   "metadata": {},
   "outputs": [],
   "source": [
    "#Race\n",
    "#A partir de _race_: nueva columna 'White' que toma 1 si race es blanco y 0 si no\n",
    "df_datosAdu['White'] = np.where(df_datosAdu['race']==' White', 1, 0)\n",
    "#Y ahora eliminamos 'race'\n",
    "df_datosAdu = df_datosAdu.drop('race', axis=1)"
   ]
  },
  {
   "cell_type": "code",
   "execution_count": 16,
   "metadata": {},
   "outputs": [
    {
     "data": {
      "image/png": "[encoded data removed]",
      "text/plain": [
       "<Figure size 432x288 with 1 Axes>"
      ]
     },
     "metadata": {
      "needs_background": "light"
     },
     "output_type": "display_data"
    }
   ],
   "source": [
    "#8) Analisis conjunto de los datos\n",
    "#8.1) El nivel educativo esta asociado con el nivel de ingreso?\n",
    "edu_counts = (df_datosAdu.groupby(['Income_50'])['education-num']\n",
    "                     .value_counts(normalize=True)\n",
    "                     .rename('percentage')\n",
    "                     .mul(100)\n",
    "                     .reset_index()\n",
    "                     .sort_values('education-num'))\n",
    "p = sns.barplot(x=\"education-num\", y=\"percentage\", hue=\"Income_50\", data=edu_counts)"
   ]
  },
  {
   "cell_type": "markdown",
   "metadata": {},
   "source": [
    "Hay una clara correlación positiva entre el número de años en educación con el nivel de ingreso, i.e. la probabilidad de que un individuo gane > $50k anuales crece en función a los años de estudio"
   ]
  },
  {
   "cell_type": "code",
   "execution_count": 17,
   "metadata": {},
   "outputs": [
    {
     "data": {
      "image/png": "[encoded data removed]",
      "text/plain": [
       "<Figure size 432x288 with 1 Axes>"
      ]
     },
     "metadata": {
      "needs_background": "light"
     },
     "output_type": "display_data"
    }
   ],
   "source": [
    "#8.2) La raza importa en el nivel de ingreso?\n",
    "race_counts = (df_datosAdu.groupby(['Income_50'])['White']\n",
    "                     .value_counts(normalize=True)\n",
    "                     .rename('percentage')\n",
    "                     .mul(100)\n",
    "                     .reset_index()\n",
    "                     .sort_values('White'))\n",
    "p = sns.barplot(x=\"White\", y=\"percentage\", hue=\"Income_50\", data=race_counts)"
   ]
  },
  {
   "cell_type": "markdown",
   "metadata": {},
   "source": [
    "Los individuos blancos en USA tienen una mayor probabilidad de ganar ingresos superiores a los no blancos, sin embargo la brecha no es sustancial. Requiere mayor investigación (e.g. distribución de ingreso, ingreso medio), sin embargo, a priori, los datos no sugieren una gran discriminación respecto a la raza."
   ]
  },
  {
   "cell_type": "code",
   "execution_count": 18,
   "metadata": {},
   "outputs": [
    {
     "data": {
      "image/png": "[encoded data removed]",
      "text/plain": [
       "<Figure size 432x288 with 1 Axes>"
      ]
     },
     "metadata": {
      "needs_background": "light"
     },
     "output_type": "display_data"
    }
   ],
   "source": [
    "#8.3) Y el pais de origen?\n",
    "ori_counts = (df_datosAdu.groupby(['Income_50'])['US_native']\n",
    "                     .value_counts(normalize=True)\n",
    "                     .rename('percentage')\n",
    "                     .mul(100)\n",
    "                     .reset_index()\n",
    "                     .sort_values('US_native'))\n",
    "p = sns.barplot(x=\"US_native\", y=\"percentage\", hue=\"Income_50\", data=ori_counts)"
   ]
  },
  {
   "cell_type": "markdown",
   "metadata": {},
   "source": [
    "Ser procediente de USA incide marginalmente en la probabilidad de percibir ingresos > $50k versus individuos procedentes de otros paises."
   ]
  },
  {
   "cell_type": "code",
   "execution_count": 19,
   "metadata": {},
   "outputs": [
    {
     "data": {
      "image/png": "[encoded data removed]",
      "text/plain": [
       "<Figure size 432x288 with 1 Axes>"
      ]
     },
     "metadata": {
      "needs_background": "light"
     },
     "output_type": "display_data"
    }
   ],
   "source": [
    "#8.4) Quienes son los grupos de edad que tienden a percibir mayores ingresos?\n",
    "age_counts = (df_datosAdu.groupby(['Income_50'])['age']\n",
    "                     .value_counts(normalize=True)\n",
    "                     .rename('percentage')\n",
    "                     .mul(50)\n",
    "                     .reset_index()\n",
    "                     .sort_values('age'))\n",
    "p = sns.barplot(x=\"age\", y=\"percentage\", hue=\"Income_50\", data=age_counts)\n",
    "_ = plt.setp(p.get_xticklabels(), rotation=90)  # Rotate labels"
   ]
  },
  {
   "cell_type": "markdown",
   "metadata": {},
   "source": [
    "Los individuos concentrados en la mediana de la población economicamente activa son los que tienen una mayor incidencia en percibir ingresos >$50k anuales.\n",
    "\n",
    "Es decir: la probabilidad de que un individuo gane >$50k al año tiende a incrementarse desde que ingresa al mercado laboral (i.e. 17-18 años) hasta que alcanza 50-55 años. A partir de alli, los individuos tieden a percibir menos ingresos."
   ]
  },
  {
   "cell_type": "code",
   "execution_count": 49,
   "metadata": {},
   "outputs": [
    {
     "data": {
      "image/png": "[encoded data removed]",
      "text/plain": [
       "<Figure size 432x288 with 1 Axes>"
      ]
     },
     "metadata": {
      "needs_background": "light"
     },
     "output_type": "display_data"
    }
   ],
   "source": [
    "#8.5) Las personas casadas tienden a tener menos ingresos?\n",
    "mar_counts = (df_datosAdu.groupby(['Income_50'])['marital-status']\n",
    "                     .value_counts(normalize=True)\n",
    "                     .rename('percentage')\n",
    "                     .mul(100)\n",
    "                     .reset_index()\n",
    "                     .sort_values('marital-status'))\n",
    "p = sns.barplot(x=\"marital-status\", y=\"percentage\", hue=\"Income_50\", data=mar_counts)\n",
    "_ = plt.setp(p.get_xticklabels(), rotation=90)  # Rotate labels"
   ]
  },
  {
   "cell_type": "markdown",
   "metadata": {},
   "source": [
    "En USA, si un individuo está civilmente casado(a), tiene una probabilidad sustancialmente superior de percibir ingresos >$50K anuales que aquellos individuos no casados (e.g. divorciados, separados, viudos) "
   ]
  },
  {
   "cell_type": "code",
   "execution_count": 21,
   "metadata": {},
   "outputs": [
    {
     "data": {
      "image/png": "[encoded data removed]",
      "text/plain": [
       "<Figure size 432x288 with 1 Axes>"
      ]
     },
     "metadata": {
      "needs_background": "light"
     },
     "output_type": "display_data"
    }
   ],
   "source": [
    "#8.6) Realmente hay dicriminación de género en cuanto al ingreso en USA?\n",
    "sex_counts = (df_datosAdu.groupby(['Income_50'])['sex']\n",
    "                     .value_counts(normalize=True)\n",
    "                     .rename('percentage')\n",
    "                     .mul(100)\n",
    "                     .reset_index()\n",
    "                     .sort_values('sex'))\n",
    "p = sns.barplot(x=\"sex\", y=\"percentage\", hue=\"Income_50\", data=sex_counts)"
   ]
  },
  {
   "cell_type": "markdown",
   "metadata": {},
   "source": [
    "Ser de género masculino en USA incrementa notablemente la probablidad de percibir ingresos >$50k anuales versus al género femenino."
   ]
  },
  {
   "cell_type": "code",
   "execution_count": 20,
   "metadata": {},
   "outputs": [
    {
     "data": {
      "image/png": "[encoded data removed]",
      "text/plain": [
       "<Figure size 432x288 with 1 Axes>"
      ]
     },
     "metadata": {
      "needs_background": "light"
     },
     "output_type": "display_data"
    }
   ],
   "source": [
    "#8.7) Se observa una brecha de ingreso entre trabajadores del Estado vs. privados?\n",
    "#Y en terminos de autónomos y empleados?\n",
    "emp_counts = (df_datosAdu.groupby(['Income_50'])['workclass']\n",
    "                     .value_counts(normalize=True)\n",
    "                     .rename('percentage')\n",
    "                     .mul(100)\n",
    "                     .reset_index()\n",
    "                     .sort_values('workclass'))\n",
    "p = sns.barplot(x=\"workclass\", y=\"percentage\", hue=\"Income_50\", data=emp_counts)\n",
    "_ = plt.setp(p.get_xticklabels(), rotation=90)  # Rotate labels"
   ]
  },
  {
   "cell_type": "markdown",
   "metadata": {},
   "source": [
    "Los empleados públicos (en el agregado) tienen una probabilidad de percibir ingresos >$50k anuales superior a los empleados privados.\n",
    "Sin embargo, en USA, los individuos autónomos (que, naturalmente, incluye a los dueños del capital, i.e. empresas, negocios) son los que tienen una mayor incidencia de percibir ingresos >$50k anuales."
   ]
  },
  {
   "cell_type": "code",
   "execution_count": null,
   "metadata": {},
   "outputs": [],
   "source": [
    "#Conjuntos de entrenamiento y de test\n",
    "#Dividimos los datos en dos conjuntos, de entrenamiento y de test."
   ]
  },
  {
   "cell_type": "code",
   "execution_count": null,
   "metadata": {},
   "outputs": [],
   "source": []
  },
  {
   "cell_type": "code",
   "execution_count": null,
   "metadata": {},
   "outputs": [],
   "source": []
  }
 ],
 "metadata": {
  "kernelspec": {
   "display_name": "Python 3",
   "language": "python",
   "name": "python3"
  },
  "language_info": {
   "codemirror_mode": {
    "name": "ipython",
    "version": 3
   },
   "file_extension": ".py",
   "mimetype": "text/x-python",
   "name": "python",
   "nbconvert_exporter": "python",
   "pygments_lexer": "ipython3",
   "version": "3.7.3"
  }
 },
 "nbformat": 4,
 "nbformat_minor": 2
}
