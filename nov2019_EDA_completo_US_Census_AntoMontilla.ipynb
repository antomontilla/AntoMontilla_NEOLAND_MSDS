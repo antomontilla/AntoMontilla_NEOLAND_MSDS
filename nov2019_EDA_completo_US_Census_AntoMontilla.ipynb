{
 "cells": [
  {
   "cell_type": "markdown",
   "metadata": {},
   "source": [
    "# EDA US Census\n",
    "### nombre - apellido estudiante\n",
    "### date: XX - XX - 2019\n",
    "\n",
    "Basado en la última práctica EDA Titanic en Python (el fichero original se encuentra en Google Drive), deben realizar una EDA completo para este dataset:\n",
    "\n",
    "https://archive.ics.uci.edu/ml/datasets/adult\n",
    "\n",
    "**IMPORTANTE**:\n",
    "Los pasos a realizar son:\n",
    "- exploración\n",
    "- limpieza\n",
    "- discretización\n",
    "- creación nuevos atributos\n",
    "- visualización con los gráficos de ggplot2 de las variables que consideran importantes\n",
    "- conclusiones justificadas sobre vuestra observaciones\n",
    "- posibilidad de agregar nuevos escenarios posibles (nuevas fuentes de datos, tipo de ingestas,\n",
    "otros aspectos de análisis, etc.)\n",
    "- Intentar crear el output de salida en formato HTML (buscar info de knit y sus dependencias)"
   ]
  }
 ],
 "metadata": {
  "kernelspec": {
   "display_name": "Python 3",
   "language": "python",
   "name": "python3"
  },
  "language_info": {
   "codemirror_mode": {
    "name": "ipython",
    "version": 3
   },
   "file_extension": ".py",
   "mimetype": "text/x-python",
   "name": "python",
   "nbconvert_exporter": "python",
   "pygments_lexer": "ipython3",
   "version": "3.7.3"
  }
 },
 "nbformat": 4,
 "nbformat_minor": 2
}
