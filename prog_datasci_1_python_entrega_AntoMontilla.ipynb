{
 "cells": [
  {
   "cell_type": "markdown",
   "metadata": {},
   "source": [
    "Programación para *Data Science*\n",
    "============================\n",
    "\n",
    "Breve introducción a la programación en Python\n",
    "-----------------------------------------------------\n",
    "\n",
    "En este Notebook encontraréis conjuntos de ejercicios a prácticar con los fundamentos de Python. Hay que entregarlo en la forma\n",
    "*nombre_apellidos_datasci1_python_entrega_fecha* en vuestro repositorio GitHub y subirlo."
   ]
  },
  {
   "cell_type": "markdown",
   "metadata": {},
   "source": [
    "## Prácticamos\n",
    "\n",
    "Los tres primeros ejercios son para prácticar un poco. Tenemos la solución abajo, pero intenta esforzarte! Si necesita ayuda tienes los recursos disponible en tu carpeta RECURSOS de Python."
   ]
  },
  {
   "cell_type": "markdown",
   "metadata": {},
   "source": [
    "### Ejercicio 1 \n",
    "\n",
    "Escribid una expresión en Python que muestre la siguiente salida por pantalla:"
   ]
  },
  {
   "cell_type": "raw",
   "metadata": {},
   "source": [
    "Hello\n",
    "\n",
    "    Python"
   ]
  },
  {
   "cell_type": "markdown",
   "metadata": {},
   "source": [
    "(fijaros que hay un salto de línea entre las dos palabras y que la palabra \"Python\" está tabulada hacía la derecha)"
   ]
  },
  {
   "cell_type": "code",
   "execution_count": 220,
   "metadata": {},
   "outputs": [
    {
     "name": "stdout",
     "output_type": "stream",
     "text": [
      "Hello\n",
      "\n",
      "    Python\n"
     ]
    }
   ],
   "source": [
    "# Respuesta Ejercicio 1\n",
    "print( \"\"\"Hello\n",
    "\n",
    "    Python\"\"\")"
   ]
  },
  {
   "cell_type": "markdown",
   "metadata": {},
   "source": [
    "### Ejercicio 2\n",
    "\n",
    "Escribid un programa que defina una lista, los valores de la cual sean los nombres de los días de la semana. Haced que muestre el primero y el penúltimo día de la semana."
   ]
  },
  {
   "cell_type": "code",
   "execution_count": 218,
   "metadata": {},
   "outputs": [
    {
     "name": "stdout",
     "output_type": "stream",
     "text": [
      "lunes sabado\n"
     ]
    }
   ],
   "source": [
    "# Respuesta\n",
    "weekday = ['lunes', 'martes', 'miercoles', 'jueves', 'viernes', 'sabado', 'domingo']\n",
    "\n",
    "print(weekday[0], weekday[-2])"
   ]
  },
  {
   "cell_type": "markdown",
   "metadata": {},
   "source": [
    "### Ejercicio 3\n",
    "\n",
    "Python dispone de un _idiom_ muy útil conocido como _list comprehensions_. Buscad documentación sobre este _idiom_ y proporcionad una expresión que devuelva una lista de los cuadrados de los 10 primeros números naturales."
   ]
  },
  {
   "cell_type": "code",
   "execution_count": 31,
   "metadata": {},
   "outputs": [
    {
     "data": {
      "text/plain": [
       "[0, 1, 4, 9, 16, 25, 36, 49, 64, 81]"
      ]
     },
     "execution_count": 31,
     "metadata": {},
     "output_type": "execute_result"
    }
   ],
   "source": [
    "# Respuesta\n",
    "num_10 = list(range(0,10))\n",
    "cuad_num_10 = [e**2 for e in num_10]\n",
    "cuad_num_10"
   ]
  },
  {
   "cell_type": "markdown",
   "metadata": {},
   "source": [
    "---\n",
    "\n",
    "## Ejercicios y preguntas teóricas para la práctica 1\n",
    "\n",
    "A continuación encontraréis los **ejercicios y preguntas teóricas que debéis completar en esta práctica** y que forman parte de la evaluación de esta unidad.\n",
    "\n",
    "Podéis encontrar en la documentación oficial de *string* funciones que os pueden ser de ayuda para completar los ejercicios:\n",
    "<https://docs.python.org/2/library/string.html>."
   ]
  },
  {
   "cell_type": "markdown",
   "metadata": {},
   "source": [
    "### Pregunta 1\n",
    "\n",
    "¿Cuál es el valor final de a, b y c (atención a los tipos de número decimal y entero)? **(1 punt)**\n",
    "\n",
    "a = 5 * 11\n",
    "\n",
    "b = a / 2.\n",
    "\n",
    "c, a = b * 2, b + 1"
   ]
  },
  {
   "cell_type": "markdown",
   "metadata": {},
   "source": [
    "**Respuesta**"
   ]
  },
  {
   "cell_type": "markdown",
   "metadata": {},
   "source": [
    "Escribid vuestra respuesta aquí."
   ]
  },
  {
   "cell_type": "code",
   "execution_count": 221,
   "metadata": {},
   "outputs": [
    {
     "name": "stdout",
     "output_type": "stream",
     "text": [
      "28.5 27.5 55.0\n"
     ]
    }
   ],
   "source": [
    "# Respuesta\n",
    "def add_number():\n",
    "    a = 5*11\n",
    "    b = a/2\n",
    "    c, a = b*2, b+1\n",
    "    print(a, b, c)\n",
    "\n",
    "add_number()\n",
    "# a = 28.5, b = 27.5, c = 55"
   ]
  },
  {
   "cell_type": "markdown",
   "metadata": {},
   "source": [
    "### Pregunta 2\n",
    "\n",
    "Exlicad brevemente que es la _Python Standard Library_ y mencionad tres ejemplos de paquetes incluidos en esta librería, añadiendo una breve explicación de cada uno de ellos. **(1 punt)**\n",
    "\n",
    "**Respuesta:**"
   ]
  },
  {
   "cell_type": "markdown",
   "metadata": {},
   "source": [
    "La Python Standard Library es una colección de scripts, desarrollados a lo largo del tiempo por usuarios/programadores, continiendo módulos de frecuente uso en programación. La Python Standard Library es accesible a todos los usuarios de Python, simplificando el proceso de programación.\n",
    "Entre los mas utilizados:\n",
    "*Calendar, que permite la ejecución de funciones referentes al calendario (e.g. creación de agenda, calendario)\n",
    "*Math, que permite la ejecución de operaciones matematicas en el espacio de numeros reales (e.g. math.exp, math.log)\n",
    "*Email, que permite el manejo de cuentas de correos electrónicos (e.g. trabajando con mensajes como objetos)"
   ]
  },
  {
   "cell_type": "markdown",
   "metadata": {},
   "source": [
    "### Ejercicio 1\n",
    "\n",
    "Proporcionad una expresión que asigne el valor `5` a la variable `a_number`, el valor `42.42` a la variable `another_number` i el valor \"`datascience`\" a la variable `a_string`. Debéis proporcionar una única expresión que realice las tres asignaciones. **(1 punt)**"
   ]
  },
  {
   "cell_type": "code",
   "execution_count": 41,
   "metadata": {
    "scrolled": false
   },
   "outputs": [
    {
     "data": {
      "text/plain": [
       "'astring'"
      ]
     },
     "execution_count": 41,
     "metadata": {},
     "output_type": "execute_result"
    }
   ],
   "source": [
    "# Respuesta\n",
    "anumber, another_number, datascience = 5, 42.42, 'astring'"
   ]
  },
  {
   "cell_type": "markdown",
   "metadata": {},
   "source": [
    "### Ejercicio 2\n",
    "\n",
    "¿Qué expresión en Python necesitamos para conseguir el _string_ \"onPythonPythonPythonPyPy\" utilizando sólo la palabra \"Python\"? **(1 punt)**"
   ]
  },
  {
   "cell_type": "code",
   "execution_count": 48,
   "metadata": {
    "attributes": {
     "classes": [
      "sourceCode"
     ],
     "id": ""
    }
   },
   "outputs": [
    {
     "data": {
      "text/plain": [
       "'onPythonPythonPythonPyPy'"
      ]
     },
     "execution_count": 48,
     "metadata": {},
     "output_type": "execute_result"
    }
   ],
   "source": [
    "# Respuesta 1\n",
    "str = \"Python\"\n",
    "str2 = str[-2:]+ str*3 + str[:2]*2\n",
    "str2"
   ]
  },
  {
   "cell_type": "code",
   "execution_count": 62,
   "metadata": {
    "scrolled": true
   },
   "outputs": [
    {
     "name": "stdout",
     "output_type": "stream",
     "text": [
      "onPythonPythonPythonPyPy\n",
      "aaHolaaaaHolaaaaHolaaaaHoHo\n"
     ]
    }
   ],
   "source": [
    "# Respuesta 2 - Opcional\n",
    "# En este caso puedo crear una función y devolver el resultado\n",
    "def str(string):\n",
    "    print(string[-2:] + string*3 + string[:2]*2)\n",
    "str(\"Python\")"
   ]
  },
  {
   "cell_type": "markdown",
   "metadata": {},
   "source": [
    "### Ejercicio 3\n",
    "\n",
    "Escribid un programa que asigne dos valores enteros cualquiera (escoged vosotros un número entero aleatorio) a dos variables con nombres `a` y `b`. Utilizad las variables definidas anteriormente para evaluar la siguiente expresión matemática:\n",
    "\n",
    "( a<sup>2</sup> + b<sup>2</sup> ) <sup>2</sup>\n",
    "\n",
    "**(1 punt)**"
   ]
  },
  {
   "cell_type": "code",
   "execution_count": 222,
   "metadata": {
    "attributes": {
     "classes": [
      "sourceCode"
     ],
     "id": ""
    }
   },
   "outputs": [
    {
     "data": {
      "text/plain": [
       "25"
      ]
     },
     "execution_count": 222,
     "metadata": {},
     "output_type": "execute_result"
    }
   ],
   "source": [
    "# Respuesta 1\n",
    "def cuadrados(a,b):\n",
    "    resul = (a**2 + b**2)**2\n",
    "    return resul\n",
    "\n",
    "cuadrados (2,1)"
   ]
  },
  {
   "cell_type": "markdown",
   "metadata": {},
   "source": [
    "### Ejercicio 4\n",
    "\n",
    "Escribid un programa que calcule el volumen de una esfera de radio `5`. **(1 punt)**"
   ]
  },
  {
   "cell_type": "code",
   "execution_count": 81,
   "metadata": {
    "attributes": {
     "classes": [
      "sourceCode"
     ],
     "id": ""
    }
   },
   "outputs": [
    {
     "data": {
      "text/plain": [
       "523.5987755982989"
      ]
     },
     "execution_count": 81,
     "metadata": {},
     "output_type": "execute_result"
    }
   ],
   "source": [
    "# Respuesta\n",
    "import math\n",
    "def volu(radio):\n",
    "    res = 4/3 * math.pi*(radio**3)\n",
    "    return res\n",
    "\n",
    "volu(5)\n"
   ]
  },
  {
   "cell_type": "markdown",
   "metadata": {},
   "source": [
    "### Ejercicio 5\n",
    "\n",
    "Escribid un programa que defina una lista con el nombre de todos los meses del año. Haced que muestre los meses que corresponden al otoño. **(1 punt)**"
   ]
  },
  {
   "cell_type": "code",
   "execution_count": 217,
   "metadata": {
    "attributes": {
     "classes": [
      "sourceCode"
     ],
     "id": ""
    }
   },
   "outputs": [
    {
     "name": "stdout",
     "output_type": "stream",
     "text": [
      "['Octubre', 'Noviembre', 'Diciembre']\n"
     ]
    }
   ],
   "source": [
    "# Respuesta\n",
    "def autumn():\n",
    "    meses = ['Enero', 'Febrero', 'Marzo', 'Abril', 'Mayo', 'Junio', 'Julio', 'Agosto', 'Septiembre', 'Octubre', 'Noviembre', 'Diciembre']\n",
    "    print(meses[-3:])\n",
    "    \n",
    "autumn()    "
   ]
  },
  {
   "cell_type": "markdown",
   "metadata": {},
   "source": [
    "### Ejercicio 6\n",
    "\n",
    "Escribid un programa en el cual se defina una agenda telefónica utilizando un _diccionario_. Por ejemplo: Homer Simpson con número de teléfono 1234, Bart Simpson con número de teléfono 5678, etc. Tanto los nombres como los números de teléfono pueden ser completamente ficticios. Mostrad también el número de teléfono correspondiente a cualquiera de las personas definidas en el diccionario utilizando alguno de los métodos de acceso a elementos de un diccionario. **(1 punt)**"
   ]
  },
  {
   "cell_type": "code",
   "execution_count": 92,
   "metadata": {},
   "outputs": [
    {
     "data": {
      "text/plain": [
       "1234"
      ]
     },
     "execution_count": 92,
     "metadata": {},
     "output_type": "execute_result"
    }
   ],
   "source": [
    "# Respuesta\n",
    "agenda = {'Homer' : 1234, 'Bart' : 5678,'Lisa' : 9101, 'March' : 1213 , 'Maggy' : 3458, 'Moe' : 5739}\n",
    "agenda['Homer']"
   ]
  },
  {
   "cell_type": "markdown",
   "metadata": {},
   "source": [
    "### Ejercicio 7\n",
    "\n",
    "Escribid un programa que muestre por pantalla una cadena de carácteres con el siguiente formato:\n",
    "\n",
    "```\n",
    "El mes de {nombre_mes} tiene {num_dias} días.\n",
    "```\n",
    "\n",
    "donde los valores de `{nombre_mes}` y `{num_dias}` estaran definidas en dos variables. Por ejemplo: _El mes de **febrero** tiene **28** días._ **(1 punt)**"
   ]
  },
  {
   "cell_type": "code",
   "execution_count": 117,
   "metadata": {},
   "outputs": [
    {
     "name": "stdout",
     "output_type": "stream",
     "text": [
      "El mes de Febrero tiene 28 días.\n"
     ]
    }
   ],
   "source": [
    "# Respuesta\n",
    "def Num_Dias_Mes(string):\n",
    "    num_dias = {'Enero' : 31, 'Febrero' : 28, 'Marzo' : 31, 'Abril' : 30, 'Mayo': 31, 'Junio': 30, 'Julio': 31, 'Agosto': 31, 'Septiembre': 30, 'Octubre': 31, 'Noviembre': 30, 'Diciembre': 31} \n",
    "    print('El mes de', string, 'tiene', num_dias[string], 'días.')  \n",
    "\n",
    "Num_Dias_Mes('Febrero')"
   ]
  },
  {
   "cell_type": "markdown",
   "metadata": {},
   "source": [
    "### Ejercicio 8\n",
    "\n",
    "Utilizando el _idiom_ de _list comprehensions_, proporcionad una expresión que devuelva: **(1 punt)**"
   ]
  },
  {
   "cell_type": "markdown",
   "metadata": {},
   "source": [
    "**a)** Una lista de los cuadrados de los números naturales entre 7 y 21:"
   ]
  },
  {
   "cell_type": "code",
   "execution_count": 129,
   "metadata": {},
   "outputs": [
    {
     "data": {
      "text/plain": [
       "[49, 64, 81, 100, 121, 144, 169, 196, 225, 256, 289, 324, 361, 400, 441]"
      ]
     },
     "execution_count": 129,
     "metadata": {},
     "output_type": "execute_result"
    }
   ],
   "source": [
    "# Respuesta\n",
    "def Ejercicio8a(x, y):\n",
    "    Num1 = list(range(x, y+1))\n",
    "    Num1_Cuad = [e**2 for e in Num1]\n",
    "    return Num1_Cuad\n",
    "Ejercicio8a(7,21)"
   ]
  },
  {
   "cell_type": "markdown",
   "metadata": {},
   "source": [
    "**b)** Una lista de los cuadrados de los números naturales **impares** entre 7 y 21:"
   ]
  },
  {
   "cell_type": "code",
   "execution_count": 133,
   "metadata": {},
   "outputs": [
    {
     "data": {
      "text/plain": [
       "[49, 81, 121, 169, 225, 289, 361, 441]"
      ]
     },
     "execution_count": 133,
     "metadata": {},
     "output_type": "execute_result"
    }
   ],
   "source": [
    "# Respuesta\n",
    "def Ejercicio8b(x, y):\n",
    "    Num2 = list(range(x, y+1))\n",
    "    Num2_Cuad = [e**2 for e in Num2 if (e % 2) > 0]\n",
    "    return Num2_Cuad\n",
    "Ejercicio8b(7,21)"
   ]
  },
  {
   "cell_type": "markdown",
   "metadata": {},
   "source": [
    "**c)** Una lista de las **vocales** que aparecen en la cadena `s`, manteniendo el orden en el que aparecen:"
   ]
  },
  {
   "cell_type": "code",
   "execution_count": 141,
   "metadata": {},
   "outputs": [
    {
     "name": "stdout",
     "output_type": "stream",
     "text": [
      "['e', 'o', 'o', 'e', 'o', 'o']\n"
     ]
    }
   ],
   "source": [
    "# Respuesta\n",
    "import re\n",
    "def vocales(string):\n",
    "    input = string\n",
    "    output = [vo for vo in input if re.match(\"(a|e|i|o|u)\",vo)] \n",
    "    print(output)\n",
    "\n",
    "s = (\"Hello Python, hello world!\")    \n",
    "vocales(s)"
   ]
  },
  {
   "cell_type": "markdown",
   "metadata": {},
   "source": [
    "### Ejercicio Opcional\n",
    "\n",
    "Escribid un programa que genere una lista de números aleatorios y calcule el producto de todos los números de la lista. Los números de la lista deben cumplir la siguiente condición: deben ser números impares entre 0 y 100. Además, el programa deberá preguntar al usuario cuantos elementos debe contener la lista (el usuario introducirá el número de elementos utilizando el teclado) y mostrar un mensaje de error si el usuario pide generar una lista de más de 50 elementos. Haced que el programa muestre la lista generada y el producto de sus elementos."
   ]
  },
  {
   "cell_type": "code",
   "execution_count": 2,
   "metadata": {},
   "outputs": [
    {
     "name": "stdout",
     "output_type": "stream",
     "text": [
      "[81, 85, 77]\n",
      "530145\n"
     ]
    }
   ],
   "source": [
    "# Respuesta\n",
    "import random \n",
    "from numpy import prod\n",
    "\n",
    "def prod_ale(r):\n",
    "    if r > 50:\n",
    "        print(\"Error: rango debe ser inferior a 50\")\n",
    "    \n",
    "    else:\n",
    "        input1 = []\n",
    "        for j in range(r):\n",
    "            input1.append(random.randrange(1, 99, 2))\n",
    "        result = prod(input1)\n",
    "        print(input1)\n",
    "        print(result)\n",
    "        \n",
    "        \n",
    "prod_ale(3)"
   ]
  },
  {
   "cell_type": "markdown",
   "metadata": {},
   "source": [
    "---\n",
    "\n",
    "## Soluciones ejercicios para practicar"
   ]
  },
  {
   "cell_type": "markdown",
   "metadata": {},
   "source": [
    "### Ejercicio 1 \n",
    "\n",
    "Hay diferentes maneras de conseguir el mismo resultado y a continuación vamos a ver algunas de ellas.\n",
    "\n",
    "La primera opción, y quizás la más simple, sería usando las triples comillas dobles (\"\"\" \"\"\"). En Python, las triples comillas dobles se interpretan literalmente y cualquier carácter que incluya nuestra cadena será renderizado tal y como aparece en la cadena. Esto nos puede resultar útil si por ejemplo nuestra cadena incluye comillas simples y comillas dobles. Vamos a ver el código:"
   ]
  },
  {
   "cell_type": "code",
   "execution_count": 1,
   "metadata": {},
   "outputs": [
    {
     "name": "stdout",
     "output_type": "stream",
     "text": [
      "Hello\n",
      "\n",
      "    Python\n"
     ]
    }
   ],
   "source": [
    "print \"\"\"Hello\n",
    "\n",
    "    Python\"\"\""
   ]
  },
  {
   "cell_type": "markdown",
   "metadata": {},
   "source": [
    "La segunda opción incluye el uso de carácteres especiales tal como \"\\n\" y \"\\t\". El primero produce un salto de línea en la salida por pantalla, mientras que el segundo produce un tabulado (TAB). Por lo tanto, nuestro código sería:"
   ]
  },
  {
   "cell_type": "code",
   "execution_count": 2,
   "metadata": {},
   "outputs": [
    {
     "name": "stdout",
     "output_type": "stream",
     "text": [
      "Hello\n",
      "\n",
      "\tPython\n"
     ]
    }
   ],
   "source": [
    "print \"Hello\\n\\n\\tPython\""
   ]
  },
  {
   "cell_type": "markdown",
   "metadata": {},
   "source": [
    "En este caso podemos ver que la indentación de la palabra \"Python\" es superior que en el caso anterior. Esto es debido a que, por defecto, el carácter \\t produce 8 espacios en blanco para \"simular\" la tabulación.\n",
    "\n",
    "Alternativamente, podemos hacer lo siguiente (poner nosotros mismos los espacios en blanco al principio de la línea):"
   ]
  },
  {
   "cell_type": "code",
   "execution_count": 3,
   "metadata": {},
   "outputs": [
    {
     "name": "stdout",
     "output_type": "stream",
     "text": [
      "Hello\n",
      "\n",
      "    Python\n"
     ]
    }
   ],
   "source": [
    "print \"Hello\\n\\n    Python\""
   ]
  },
  {
   "cell_type": "markdown",
   "metadata": {},
   "source": [
    "### Ejercicio 2\n",
    "\n",
    "La forma más fácil de definir un array en Python es utilizando [ ]:"
   ]
  },
  {
   "cell_type": "code",
   "execution_count": 110,
   "metadata": {},
   "outputs": [],
   "source": [
    "dias = ['Lunes', 'Martes', 'Miércoles', 'Jueves', 'Viernes', 'Sábado', 'Domingo']"
   ]
  },
  {
   "cell_type": "markdown",
   "metadata": {},
   "source": [
    "Para acceder a los elementos de un array utilizaremos el mismo operador [], pero especificaremos la posición o índice del elemento al cual queremos acceder. Debemos tener en cuenta que en Python, el primer elemento de una lista tiene índice 0."
   ]
  },
  {
   "cell_type": "code",
   "execution_count": 111,
   "metadata": {},
   "outputs": [
    {
     "name": "stdout",
     "output_type": "stream",
     "text": [
      "Lunes\n",
      "Sábado\n"
     ]
    }
   ],
   "source": [
    "# Primer día de la semana\n",
    "print(dias[0])\n",
    "\n",
    "# Penúltimo día de la semana \n",
    "print(dias[-2])"
   ]
  },
  {
   "cell_type": "markdown",
   "metadata": {},
   "source": [
    "Python nos permite utilizar un índice negativo que contaría des del final del array hacía delante."
   ]
  },
  {
   "cell_type": "markdown",
   "metadata": {},
   "source": [
    "### Ejercicio 3\n",
    "\n",
    "La técnica de _list comprehension_ es la forma especial que tiene Python de iterar una lista y obtener otra lista en una única línea de código. Por ejemplo, si queremos crear una lista con el cuadrado de los 10 primeros números naturales, en Python lo haríamos de la siguiente forma:"
   ]
  },
  {
   "cell_type": "code",
   "execution_count": 3,
   "metadata": {},
   "outputs": [
    {
     "name": "stdout",
     "output_type": "stream",
     "text": [
      "[0, 1, 4, 9, 16, 25, 36, 49, 64, 81]\n"
     ]
    }
   ],
   "source": [
    "naturales = [0, 1, 2, 3, 4, 5, 6, 7, 8, 9]\n",
    "cuadrados = [x*x for x in naturales]\n",
    "print cuadrados"
   ]
  },
  {
   "cell_type": "markdown",
   "metadata": {},
   "source": [
    "Es una forma muy compacta de notación que nos ahorra escribir en un bucle desplegado."
   ]
  }
 ],
 "metadata": {
  "kernelspec": {
   "display_name": "Python 3",
   "language": "python",
   "name": "python3"
  },
  "language_info": {
   "codemirror_mode": {
    "name": "ipython",
    "version": 3
   },
   "file_extension": ".py",
   "mimetype": "text/x-python",
   "name": "python",
   "nbconvert_exporter": "python",
   "pygments_lexer": "ipython3",
   "version": "3.7.3"
  }
 },
 "nbformat": 4,
 "nbformat_minor": 1
}
