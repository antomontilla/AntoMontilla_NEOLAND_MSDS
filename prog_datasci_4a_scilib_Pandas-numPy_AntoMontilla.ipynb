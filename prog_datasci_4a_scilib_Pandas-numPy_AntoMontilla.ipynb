{
 "cells": [
  {
   "cell_type": "markdown",
   "metadata": {},
   "source": [
    "# Programación para *Data Science*"
   ]
  },
  {
   "cell_type": "markdown",
   "metadata": {},
   "source": [
    "Unidad 4: Librerías científicas en Python\n",
    "------------------------------------------------------"
   ]
  },
  {
   "cell_type": "markdown",
   "metadata": {},
   "source": [
    "Esta Unidad se compone de 4 módulos: Matplotlib, Numpy, pandas y SciPy. A continuación, os proponemos una serie de ejercicios a realizar para cada uno de estos módulos."
   ]
  },
  {
   "cell_type": "markdown",
   "metadata": {},
   "source": [
    "# Ejercicios para practicar\n",
    "\n",
    "**Los siguientes 4 ejercicios** no puntuan para la PEC, pero os recomendamos que los intentéis resolver antes de pasar a los ejercicios propios de la PEC. También podéis encontrar las soluciones a estos ejercicios al final del Notebook.\n"
   ]
  },
  {
   "cell_type": "markdown",
   "metadata": {},
   "source": [
    "### Ejercicio 1\n",
    "Calculad la norma y el determinante de la siguiente matriz: ```[[1, 0], [2, -1]]```."
   ]
  },
  {
   "cell_type": "code",
   "execution_count": 6,
   "metadata": {},
   "outputs": [
    {
     "name": "stdout",
     "output_type": "stream",
     "text": [
      "2.449489742783178 -1.0\n"
     ]
    }
   ],
   "source": [
    "# Respuesta\n",
    "import numpy as np #importando numpy\n",
    "A = [[1,0],[2,-1]] #creando matrix A\n",
    "norm = np.linalg.norm(A) #calculando la norma\n",
    "det = np.linalg.det(A) #y el determinante\n",
    "print(norm, det)"
   ]
  },
  {
   "cell_type": "markdown",
   "metadata": {},
   "source": [
    "### Ejercicio 2 \n",
    "Evaluad las funciones arcoseno y arcocoseno en el intervalo [0,1] y con paso (resolución) de 0.1 y guardadlas en dos _arrays_."
   ]
  },
  {
   "cell_type": "code",
   "execution_count": 12,
   "metadata": {},
   "outputs": [
    {
     "name": "stdout",
     "output_type": "stream",
     "text": [
      "[0.         0.10016742 0.20135792 0.30469265 0.41151685 0.52359878\n",
      " 0.64350111 0.7753975  0.92729522 1.11976951 1.57079633] [1.57079633 1.47062891 1.36943841 1.26610367 1.15927948 1.04719755\n",
      " 0.92729522 0.79539883 0.64350111 0.45102681 0.        ]\n"
     ]
    }
   ],
   "source": [
    "# Respuesta\n",
    "A = np.arange(0., 1.1, 0.1) #generando vector con función arange de numpy \n",
    "arc_A = np.arcsin(A) #calculando arcoseno\n",
    "arco_A = np.arccos(A) #calculando arcocoseno\n",
    "print(arc_A, arco_A) #resultados"
   ]
  },
  {
   "cell_type": "markdown",
   "metadata": {},
   "source": [
    "### Ejercicio 4\n",
    "Generad una lista de 100 valores enteros aleatorios de 0-9. Realizad los siguientes cálculos utilizando métodos de _numpy_:\n",
    "- Media y desviación estándar de los valores de la lista\n",
    "- Valor máximo y mínimo\n",
    "- Sumad todos los valores de la lista\n",
    "- Conseguid una lista de valores únicos"
   ]
  },
  {
   "cell_type": "code",
   "execution_count": 29,
   "metadata": {},
   "outputs": [
    {
     "name": "stdout",
     "output_type": "stream",
     "text": [
      "5.18 2.9812078089257716 10 0 518 [ 0  1  2  3  4  5  6  7  8  9 10]\n"
     ]
    }
   ],
   "source": [
    "# Respuesta\n",
    "import random \n",
    "ran = [random.randint(0,10) for _ in range(100)] #generando vector usando random.randint\n",
    "media_ran = np.mean(ran) #media\n",
    "dev_ran = np.std(ran) #dev estandar\n",
    "max_ran = np.max(ran) #máximo\n",
    "min_ran = np.min(ran) #mínimo\n",
    "sum_ran = np.sum(ran) #suma\n",
    "unico_ran = np.unique(ran) #valores únicos\n",
    "print(media_ran, dev_ran, max_ran, min_ran, sum_ran, unico_ran)"
   ]
  },
  {
   "cell_type": "markdown",
   "metadata": {},
   "source": [
    "# Ejercicios para la actividad 4a\n",
    "\n",
    "A continuación encontraréis los ejercicios que debéis completar en esta actividad y que\n",
    "forman parte de la evaluación de esta unidad: Pandas y NumPy"
   ]
  },
  {
   "cell_type": "markdown",
   "metadata": {},
   "source": [
    "## NumPy - Ejercicios"
   ]
  },
  {
   "cell_type": "markdown",
   "metadata": {},
   "source": [
    "### Ejercicio 1\n",
    "Ordenad la matriz bidimensional ```[[5,1,7], [0,7,4], [7,23,1]]``` por filas utilizando como algoritmo de ordenación el [Merge sort](https://en.wikipedia.org/wiki/Merge_sort). **(0.5 puntos)**\n",
    "\n",
    "**Hint:** No es necesario que implementéis el algoritmo de ordenación a mano, NumPy contiene métodos para realizar diferentes tipos de ordenación sobre diferentes estructuras de datos."
   ]
  },
  {
   "cell_type": "code",
   "execution_count": 38,
   "metadata": {},
   "outputs": [
    {
     "data": {
      "text/plain": [
       "array([[ 1,  5,  7],\n",
       "       [ 0,  4,  7],\n",
       "       [ 1,  7, 23]])"
      ]
     },
     "execution_count": 38,
     "metadata": {},
     "output_type": "execute_result"
    }
   ],
   "source": [
    "# Respuesta\n",
    "A = [[5,1,7], [0,7,4], [7,23,1]] #creando matriz A\n",
    "A_sort = np.sort(A, -1, 'mergesort') #utilizando función sort, opción 'mergesort'\n",
    "A_sort #resultado"
   ]
  },
  {
   "cell_type": "markdown",
   "metadata": {},
   "source": [
    "### Ejercicio 2\n",
    "Definid una función que dadas dos matrices, devuelva el valor absoluto de la multiplicación de los determinantes ambas, es decir, dadas A y B, nuestra función devolverá `|det(A) * det(B)|`. **(0.5 puntos)**"
   ]
  },
  {
   "cell_type": "code",
   "execution_count": 50,
   "metadata": {},
   "outputs": [
    {
     "data": {
      "text/plain": [
       "6.0"
      ]
     },
     "execution_count": 50,
     "metadata": {},
     "output_type": "execute_result"
    }
   ],
   "source": [
    "# Respuesta\n",
    "def det_prod(A, B): #definiendo función con parámetros A y B \n",
    "    det_a = np.linalg.det(A) #calculando determinante de A\n",
    "    det_b = np.linalg.det(B) #calculando determinante de B\n",
    "    resultado = abs(det_a*det_b) #calculando el valor absoluto del producto para el resultado\n",
    "    return resultado\n",
    "det_prod([[1, 0], [2, -1]], [[2, 1], [2, 4]])"
   ]
  },
  {
   "cell_type": "markdown",
   "metadata": {},
   "source": [
    "### Ejercicio 3\n",
    "Cread una matriz 10x10 que corresponda con la [matriz identidad](https://es.wikipedia.org/wiki/Matriz_identidad) usando generadores básicos de arrays. Cread una matriz identidad 10x10 (esta vez usando generadores especificos de matrices identidad) y comprobad que ambas matrices son iguales **(0.5 puntos)**\n",
    "\n",
    "**Consideraciones**:\n",
    "- La primera matriz debe crearse usando constructores básicos de arrays, como los presentados en los Notebooks de teoría.\n",
    "* La segunda matriz debe generarse utilizando el generador de matrices identidad de numpy.\n",
    "* La comparación debe devolver True si las matrices son iguales (un único True), False de no ser así."
   ]
  },
  {
   "cell_type": "code",
   "execution_count": 101,
   "metadata": {},
   "outputs": [
    {
     "data": {
      "text/plain": [
       "True"
      ]
     },
     "execution_count": 101,
     "metadata": {},
     "output_type": "execute_result"
    }
   ],
   "source": [
    "# Respuesta\n",
    "i_array = [[1,0,0,0,0,0,0,0,0,0],\n",
    "          [0,1,0,0,0,0,0,0,0,0],\n",
    "          [0,0,1,0,0,0,0,0,0,0],\n",
    "          [0,0,0,1,0,0,0,0,0,0],\n",
    "          [0,0,0,0,1,0,0,0,0,0],\n",
    "          [0,0,0,0,0,1,0,0,0,0],\n",
    "          [0,0,0,0,0,0,1,0,0,0],\n",
    "          [0,0,0,0,0,0,0,1,0,0],\n",
    "          [0,0,0,0,0,0,0,0,1,0],\n",
    "          [0,0,0,0,0,0,0,0,0,1]] #generando I 10x10 usando generadores básicos\n",
    "i_numpy = np.identity(10) #generando I 10x10 usando _numpy_\n",
    "np.array_equal(i_array, i_numpy) #comparando las dos matrices usando _np.array_equal_"
   ]
  },
  {
   "cell_type": "markdown",
   "metadata": {},
   "source": [
    "### Ejercicio 4\n",
    "Cread una matriz de 2x6 donde los valores de cada posición `(i, j)` correspondan a `i^2+j` para todo `i` par, `i/j^2` para todo `i` impar. **(0.5 puntos)**"
   ]
  },
  {
   "cell_type": "code",
   "execution_count": 139,
   "metadata": {
    "scrolled": true
   },
   "outputs": [
    {
     "name": "stderr",
     "output_type": "stream",
     "text": [
      "//anaconda3/lib/python3.7/site-packages/ipykernel_launcher.py:3: RuntimeWarning: invalid value encountered in true_divide\n",
      "  This is separate from the ipykernel package so we can avoid doing imports until\n"
     ]
    },
    {
     "data": {
      "text/plain": [
       "array([[ 0.,  1.,  2.,  3.,  4.,  5.],\n",
       "       [nan,  0.,  0.,  0.,  0.,  0.]])"
      ]
     },
     "execution_count": 139,
     "metadata": {},
     "output_type": "execute_result"
    }
   ],
   "source": [
    "# Respuesta\n",
    "par = np.fromfunction(lambda i, j: i*i + j, (1, 6)) #calculando primera fila donde i es par\n",
    "impar = np.fromfunction(lambda i, j: i / (j*j), (1,6)) #calculando segunda fila donde i es impar\n",
    "matr = np.concatenate((par,impar),axis=0) #uniendo dos arrays para crear nueva matriz\n",
    "matr"
   ]
  },
  {
   "cell_type": "markdown",
   "metadata": {},
   "source": [
    "### Ejercicio 5\n",
    "Cread dos matrices de tamaño 5x5 con números reales aleatorios. Obtened el resultado de multiplicar ambas matrices usando los dos métodos de multiplicación de matrices vistos en el Notebook de teoría. ¿Cuál es la diferencia entre ambos resultados? Cread ahora dos matrices de tamaño 4x5 y 5x5 respectivamente, repetid la operación. Describid cuál de los métodos de multiplicación podéis aplicar y porqué. **(0.5 puntos)**"
   ]
  },
  {
   "cell_type": "code",
   "execution_count": 140,
   "metadata": {},
   "outputs": [
    {
     "name": "stdout",
     "output_type": "stream",
     "text": [
      "[[8 2 3 3 9]\n",
      " [3 9 6 1 5]\n",
      " [6 6 2 8 6]\n",
      " [2 9 4 5 5]\n",
      " [9 8 1 2 2]]\n",
      "[[3 5 8 7 8]\n",
      " [4 8 6 3 1]\n",
      " [1 3 3 5 8]\n",
      " [1 8 0 1 6]\n",
      " [0 3 4 0 2]]\n",
      "[[ 38 116 121  80 126]\n",
      " [ 52 128 116  79  97]\n",
      " [ 52 166 114  78 130]\n",
      " [ 51 149 102  66  97]\n",
      " [ 62 134 131  94 104]]\n",
      "[[24 10 24 21 72]\n",
      " [12 72 36  3  5]\n",
      " [ 6 18  6 40 48]\n",
      " [ 2 72  0  5 30]\n",
      " [ 0 24  4  0  4]]\n"
     ]
    },
    {
     "ename": "ValueError",
     "evalue": "operands could not be broadcast together with shapes (4,5) (5,5) ",
     "output_type": "error",
     "traceback": [
      "\u001b[0;31m---------------------------------------------------------------------------\u001b[0m",
      "\u001b[0;31mValueError\u001b[0m                                Traceback (most recent call last)",
      "\u001b[0;32m<ipython-input-140-803cfb33e3b0>\u001b[0m in \u001b[0;36m<module>\u001b[0;34m\u001b[0m\n\u001b[1;32m     16\u001b[0m \u001b[0mA2_x_B2\u001b[0m \u001b[0;34m=\u001b[0m \u001b[0mnp\u001b[0m\u001b[0;34m.\u001b[0m\u001b[0mdot\u001b[0m\u001b[0;34m(\u001b[0m\u001b[0mA2\u001b[0m\u001b[0;34m,\u001b[0m \u001b[0mB2\u001b[0m\u001b[0;34m)\u001b[0m \u001b[0;31m#en este caso, este método es posible debido a que número de\u001b[0m\u001b[0;34m\u001b[0m\u001b[0;34m\u001b[0m\u001b[0m\n\u001b[1;32m     17\u001b[0m                             \u001b[0;31m#columans de A2 es igual al número de filas de B2\u001b[0m\u001b[0;34m\u001b[0m\u001b[0;34m\u001b[0m\u001b[0;34m\u001b[0m\u001b[0m\n\u001b[0;32m---> 18\u001b[0;31m \u001b[0mA2_prod_B2\u001b[0m \u001b[0;34m=\u001b[0m \u001b[0mA2\u001b[0m\u001b[0;34m*\u001b[0m\u001b[0mB2\u001b[0m \u001b[0;31m#este método resulta en error debido a que matrices deben ser de la misma\u001b[0m\u001b[0;34m\u001b[0m\u001b[0;34m\u001b[0m\u001b[0m\n\u001b[0m\u001b[1;32m     19\u001b[0m                     \u001b[0;31m#shape, es decir con número de columnas y filas iguales\u001b[0m\u001b[0;34m\u001b[0m\u001b[0;34m\u001b[0m\u001b[0;34m\u001b[0m\u001b[0m\n\u001b[1;32m     20\u001b[0m \u001b[0mprint\u001b[0m\u001b[0;34m(\u001b[0m\u001b[0mA2\u001b[0m\u001b[0;34m)\u001b[0m\u001b[0;34m\u001b[0m\u001b[0;34m\u001b[0m\u001b[0m\n",
      "\u001b[0;31mValueError\u001b[0m: operands could not be broadcast together with shapes (4,5) (5,5) "
     ]
    }
   ],
   "source": [
    "# Respuesta\n",
    "import math \n",
    "A = np.random.randint(0, 10, size=(5,5)) #generando matriz A\n",
    "B = np.random.randint(0, 10, size=(5,5)) #generando matriz B\n",
    "A_x_B = np.dot(A, B) #calculando multiplicación AxB usando _np.dot_\n",
    "A_prod_B = A*B #calculando multiplicación AxB usando operación directa (elemento por elemento)\n",
    "print(A)\n",
    "print(B)\n",
    "print(A_x_B) #método 1 resulta en una multiplicación tradicional de matrices\n",
    "print(A_prod_B) #método 2 resulta en una multiplicación de cada elemento i,j de A \n",
    "                #por el respectivo i,j de B\n",
    "\n",
    "#ahora calculando mismo procedimiento con matrices A2 4x5 y B2 5x5\n",
    "A2 = np.random.randint(0, 10, size=(4,5))\n",
    "B2 = np.random.randint(0, 10, size=(5,5))\n",
    "A2_x_B2 = np.dot(A2, B2) #en este caso, este método es posible debido a que número de\n",
    "                            #columans de A2 es igual al número de filas de B2\n",
    "A2_prod_B2 = A2*B2 #este método resulta en error debido a que matrices deben ser de la misma\n",
    "                    #shape, es decir con número de columnas y filas iguales\n",
    "print(A2)\n",
    "print(B2)\n",
    "print(A2_x_B2)\n",
    "print(A2_prod_B2)"
   ]
  },
  {
   "cell_type": "markdown",
   "metadata": {},
   "source": [
    "## pandas - Ejercicios"
   ]
  },
  {
   "cell_type": "markdown",
   "metadata": {},
   "source": [
    "### Ejercicio 1\n",
    "\n",
    "Cargad los datos del fichero _got.csv_ en un _dataframe_. Este conjunto de datos recoge información de la [Guerra de los Cinco Reyes](https://awoiaf.westeros.org/index.php/War_of_the_Five_Kings) de las novelas de [Cancion de Hielo y Fuego](https://es.wikipedia.org/wiki/Canci%C3%B3n_de_hielo_y_fuego) de George R.R Martin.\n",
    "\n",
    "Mostrad el número de filas del _dataframe_ y las etiquetas de los ejes. **(0.5 puntos)**"
   ]
  },
  {
   "cell_type": "code",
   "execution_count": 4,
   "metadata": {},
   "outputs": [
    {
     "name": "stdout",
     "output_type": "stream",
     "text": [
      "(38, 25) ['name', 'year', 'battle_number', 'attacker_king', 'defender_king', 'attacker_1', 'attacker_2', 'attacker_3', 'attacker_4', 'defender_1', 'defender_2', 'defender_3', 'defender_4', 'attacker_outcome', 'battle_type', 'major_death', 'major_capture', 'attacker_size', 'defender_size', 'attacker_commander', 'defender_commander', 'summer', 'location', 'region', 'note']\n"
     ]
    }
   ],
   "source": [
    "# Respuesta\n",
    "import pandas as pd #importando _pandas_\n",
    "got = pd.read_csv(\"data_got.csv\") #cargando _got_ fichero \n",
    "print(got.shape, list(got.columns)) #mostrando número de filas y las etiquetas"
   ]
  },
  {
   "cell_type": "markdown",
   "metadata": {},
   "source": [
    "### Ejercicio 2\n",
    "\n",
    "Agrupad los datos cargados en el ejercicio 1 por el principal bando atacante (*attacker\\_1*). Para cada posición, mostrad el número de batallas y el resultado de la batalla (el resultado se encuentra en el campo *attacker\\_outcome*). **(0.5 puntos)**"
   ]
  },
  {
   "cell_type": "code",
   "execution_count": 178,
   "metadata": {},
   "outputs": [
    {
     "name": "stdout",
     "output_type": "stream",
     "text": [
      "('Baratheon', 'loss') 1\n",
      "('Baratheon', 'win') 4\n",
      "('Bolton', 'win') 2\n",
      "('Bracken', 'win') 1\n",
      "('Brave Companions', 'win') 1\n",
      "('Brotherhood without Banners', 'win') 1\n",
      "('Darry', 'win') 1\n",
      "('Free folk', 'loss') 1\n",
      "('Frey', 'win') 2\n",
      "('Greyjoy', 'win') 7\n",
      "('Lannister', 'loss') 1\n",
      "('Lannister', 'win') 7\n",
      "('Stark', 'loss') 2\n",
      "('Stark', 'win') 6\n"
     ]
    }
   ],
   "source": [
    "# Respuesta\n",
    "group1 = got.groupby([\"attacker_1\", \"attacker_outcome\"]) #agrupando por attacker_1 y attacker_outcome\n",
    "for name, group in group1:\n",
    "    print (name, len(group)) #imprimiendo resultado"
   ]
  },
  {
   "cell_type": "markdown",
   "metadata": {},
   "source": [
    "### Ejercicio 3\n",
    "\n",
    "Mostrad los datos de las batallas donde el numero de participantes supera los 15000 \"hombres\" (contando ambos bandos: *attacker\\_size* y *defender\\_size*), el resultado haya sido favorable para el atacante, y la batalla se haya producido en invierno (_summer=0_).\n",
    " **(1 punto)**"
   ]
  },
  {
   "cell_type": "code",
   "execution_count": 3,
   "metadata": {},
   "outputs": [
    {
     "data": {
      "text/html": [
       "<div>\n",
       "<style scoped>\n",
       "    .dataframe tbody tr th:only-of-type {\n",
       "        vertical-align: middle;\n",
       "    }\n",
       "\n",
       "    .dataframe tbody tr th {\n",
       "        vertical-align: top;\n",
       "    }\n",
       "\n",
       "    .dataframe thead th {\n",
       "        text-align: right;\n",
       "    }\n",
       "</style>\n",
       "<table border=\"1\" class=\"dataframe\">\n",
       "  <thead>\n",
       "    <tr style=\"text-align: right;\">\n",
       "      <th></th>\n",
       "      <th>name</th>\n",
       "      <th>year</th>\n",
       "      <th>battle_number</th>\n",
       "      <th>attacker_king</th>\n",
       "      <th>defender_king</th>\n",
       "      <th>attacker_1</th>\n",
       "      <th>attacker_2</th>\n",
       "      <th>attacker_3</th>\n",
       "      <th>attacker_4</th>\n",
       "      <th>defender_1</th>\n",
       "      <th>...</th>\n",
       "      <th>major_death</th>\n",
       "      <th>major_capture</th>\n",
       "      <th>attacker_size</th>\n",
       "      <th>defender_size</th>\n",
       "      <th>attacker_commander</th>\n",
       "      <th>defender_commander</th>\n",
       "      <th>summer</th>\n",
       "      <th>location</th>\n",
       "      <th>region</th>\n",
       "      <th>note</th>\n",
       "    </tr>\n",
       "  </thead>\n",
       "  <tbody>\n",
       "  </tbody>\n",
       "</table>\n",
       "<p>0 rows × 25 columns</p>\n",
       "</div>"
      ],
      "text/plain": [
       "Empty DataFrame\n",
       "Columns: [name, year, battle_number, attacker_king, defender_king, attacker_1, attacker_2, attacker_3, attacker_4, defender_1, defender_2, defender_3, defender_4, attacker_outcome, battle_type, major_death, major_capture, attacker_size, defender_size, attacker_commander, defender_commander, summer, location, region, note]\n",
       "Index: []\n",
       "\n",
       "[0 rows x 25 columns]"
      ]
     },
     "execution_count": 3,
     "metadata": {},
     "output_type": "execute_result"
    }
   ],
   "source": [
    "# Respuesta\n",
    "#creando filtro_1 imponiendo todos los filtros\n",
    "filtro_1 = got[(got.attacker_size>15000) & (got.defender_size>15000) & (got.attacker_outcome == 'win')  & (got.summer == 0.0)]\n",
    "filtro_1 #imprimiendo el resultado. La lista muestra ninguna observación con el criterio seleccionado"
   ]
  },
  {
   "cell_type": "markdown",
   "metadata": {},
   "source": [
    "### Ejercicio 4\n",
    "\n",
    "Contad el número de lugares que aparecen más de una vez en _dataframe_ (campo _location_), utilizando las funciones de la librería _pandas_. ¿Existe algún lugar donde se haya realizado más de una batalla? Comprobad qué bandos estaban implicados. **(0.5 puntos)**"
   ]
  },
  {
   "cell_type": "code",
   "execution_count": 217,
   "metadata": {},
   "outputs": [
    {
     "name": "stdout",
     "output_type": "stream",
     "text": [
      "El número único de lugares es 28.\n"
     ]
    },
    {
     "data": {
      "text/plain": [
       "Riverrun                                3\n",
       "Winterfell                              3\n",
       "Darry                                   2\n",
       "Deepwood Motte                          2\n",
       "Storm's End                             2\n",
       "Torrhen's Square                        2\n",
       "Moat Cailin                             2\n",
       "Harrenhal                               2\n",
       "The Twins                               1\n",
       "Stony Shore                             1\n",
       "Oxcross                                 1\n",
       "Ryamsport, Vinetown, Starfish Harbor    1\n",
       "Raventree                               1\n",
       "Castle Black                            1\n",
       "Golden Tooth                            1\n",
       "Dragonstone                             1\n",
       "Green Fork                              1\n",
       "Saltpans                                1\n",
       "King's Landing                          1\n",
       "Mummer's Ford                           1\n",
       "Red Fork                                1\n",
       "Duskendale                              1\n",
       "Crag                                    1\n",
       "Ruby Ford                               1\n",
       "Shield Islands                          1\n",
       "Seagard                                 1\n",
       "Whispering Wood                         1\n",
       "Name: location, dtype: int64"
      ]
     },
     "execution_count": 217,
     "metadata": {},
     "output_type": "execute_result"
    }
   ],
   "source": [
    "# Respuesta\n",
    "count_location = len(got.location.unique()) #contando todos los lugares únicos donde se haya realizado \n",
    "print('El número único de lugares es {}.'.format(count_location)) #imprimiendo el resultado\n",
    "count_location_2 = got.location.value_counts()\n",
    "count_location_2 #resultado muestra que si existen 8 lugares donde se hayan realizado mas de una batalla"
   ]
  },
  {
   "cell_type": "markdown",
   "metadata": {},
   "source": [
    "### Ejercicio 5\n",
    "\n",
    "Añadid una nueva columna al _dataframe_ con un valor booleano indicando una predicción básica de si en una cierta batalla el bando atacante será vencedor. Definiremos el valor como _True_ sí el bando atacante es mayor al defensor, y como _False_ en caso contrario. Definid como _NaN_ aquellos casos en los que no haya número de tropas en ningún bando. ¿En que casos, identificados por el número de batalla (*battle\\_number*), nuestra predicción coincide con el resultado real? **(1 punto)**"
   ]
  },
  {
   "cell_type": "code",
   "execution_count": 22,
   "metadata": {},
   "outputs": [
    {
     "data": {
      "text/html": [
       "<div>\n",
       "<style scoped>\n",
       "    .dataframe tbody tr th:only-of-type {\n",
       "        vertical-align: middle;\n",
       "    }\n",
       "\n",
       "    .dataframe tbody tr th {\n",
       "        vertical-align: top;\n",
       "    }\n",
       "\n",
       "    .dataframe thead th {\n",
       "        text-align: right;\n",
       "    }\n",
       "</style>\n",
       "<table border=\"1\" class=\"dataframe\">\n",
       "  <thead>\n",
       "    <tr style=\"text-align: right;\">\n",
       "      <th></th>\n",
       "      <th>name</th>\n",
       "      <th>year</th>\n",
       "      <th>battle_number</th>\n",
       "      <th>attacker_outcome</th>\n",
       "      <th>prediccion</th>\n",
       "      <th>prediccion_check</th>\n",
       "    </tr>\n",
       "  </thead>\n",
       "  <tbody>\n",
       "    <tr>\n",
       "      <th>0</th>\n",
       "      <td>Battle of the Golden Tooth</td>\n",
       "      <td>298</td>\n",
       "      <td>1</td>\n",
       "      <td>win</td>\n",
       "      <td>1.0</td>\n",
       "      <td>1.0</td>\n",
       "    </tr>\n",
       "    <tr>\n",
       "      <th>2</th>\n",
       "      <td>Battle of Riverrun</td>\n",
       "      <td>298</td>\n",
       "      <td>3</td>\n",
       "      <td>win</td>\n",
       "      <td>1.0</td>\n",
       "      <td>1.0</td>\n",
       "    </tr>\n",
       "    <tr>\n",
       "      <th>3</th>\n",
       "      <td>Battle of the Green Fork</td>\n",
       "      <td>298</td>\n",
       "      <td>4</td>\n",
       "      <td>loss</td>\n",
       "      <td>0.0</td>\n",
       "      <td>1.0</td>\n",
       "    </tr>\n",
       "    <tr>\n",
       "      <th>21</th>\n",
       "      <td>Battle of Duskendale</td>\n",
       "      <td>299</td>\n",
       "      <td>22</td>\n",
       "      <td>loss</td>\n",
       "      <td>0.0</td>\n",
       "      <td>1.0</td>\n",
       "    </tr>\n",
       "    <tr>\n",
       "      <th>30</th>\n",
       "      <td>Retaking of Deepwood Motte</td>\n",
       "      <td>300</td>\n",
       "      <td>31</td>\n",
       "      <td>win</td>\n",
       "      <td>1.0</td>\n",
       "      <td>1.0</td>\n",
       "    </tr>\n",
       "    <tr>\n",
       "      <th>37</th>\n",
       "      <td>Siege of Winterfell</td>\n",
       "      <td>300</td>\n",
       "      <td>38</td>\n",
       "      <td>NaN</td>\n",
       "      <td>0.0</td>\n",
       "      <td>1.0</td>\n",
       "    </tr>\n",
       "  </tbody>\n",
       "</table>\n",
       "</div>"
      ],
      "text/plain": [
       "                          name  year  battle_number attacker_outcome  \\\n",
       "0   Battle of the Golden Tooth   298              1              win   \n",
       "2           Battle of Riverrun   298              3              win   \n",
       "3     Battle of the Green Fork   298              4             loss   \n",
       "21        Battle of Duskendale   299             22             loss   \n",
       "30  Retaking of Deepwood Motte   300             31              win   \n",
       "37         Siege of Winterfell   300             38              NaN   \n",
       "\n",
       "    prediccion  prediccion_check  \n",
       "0          1.0               1.0  \n",
       "2          1.0               1.0  \n",
       "3          0.0               1.0  \n",
       "21         0.0               1.0  \n",
       "30         1.0               1.0  \n",
       "37         0.0               1.0  "
      ]
     },
     "execution_count": 22,
     "metadata": {},
     "output_type": "execute_result"
    }
   ],
   "source": [
    "# Respuesta\n",
    "#Primer paso: crear columna prediccion con valores 1 si _attacker_size_ > _defender_size_\n",
    "got['prediccion'] = np.nan \n",
    "got['prediccion'] = np.where(got.attacker_size>got.defender_size, 1, 0)\n",
    "\n",
    "#intruir a reemplazar columna prediccion en caso de que no haya número de tropas en ningún bando\n",
    "got['prediccion'] = np.where(got.attacker_size == np.nan, np.nan, got.prediccion)\n",
    "got['prediccion'] = np.where(got.defender_size == np.nan, np.nan, got.prediccion)\n",
    "\n",
    "#calculando cuando predicción fue correcta:\n",
    "got['ganador'] = 0 #generando nueva columna 'ganador' igual a 0\n",
    "got['ganador'] = np.where(got.attacker_outcome == 'win', 1, got.ganador) #reemplazando 'ganador' a 1 cuando atacante ganó\n",
    "got[[\"ganador\", \"attacker_outcome\"]] #imprimiendo para comprobar resultado\n",
    "\n",
    "got['prediccion_check'] = np.where(got.ganador == got.prediccion, 1, 0) #creando col donde predicción se haya cumplido (1 = win)\n",
    "got['prediccion_check'] = np.where(got.attacker_outcome == 'NaN', np.nan, got.prediccion_check) #creando col donde predicción se haya cumplido (1 = win)\n",
    "filtro_pred = got[(got.prediccion_check==1)] #filtrando con observaciones donde predicción fue correcta\n",
    "filtro_pred[['name', 'year', 'battle_number', 'attacker_outcome', 'prediccion','prediccion_check']] #imprimiendo resultado"
   ]
  },
  {
   "cell_type": "markdown",
   "metadata": {},
   "source": [
    "# Soluciones a los ejercicios para practicar"
   ]
  },
  {
   "cell_type": "markdown",
   "metadata": {},
   "source": [
    "### Ejercicio 1\n",
    "Calculad la norma y el determinante de la siguiente matriz: ```[[1, 0], [2, -1]]```."
   ]
  },
  {
   "cell_type": "code",
   "execution_count": 31,
   "metadata": {},
   "outputs": [
    {
     "name": "stdout",
     "output_type": "stream",
     "text": [
      "La matriz m es: [[ 1  0]\n",
      " [ 2 -1]]\n",
      "La norma de m es:  2.449489742783178\n",
      "El determinante de m es: -1.0\n"
     ]
    }
   ],
   "source": [
    "import numpy as np\n",
    "\n",
    "# Creamos la matriz como un array bidimensional\n",
    "m = np.array([[1, 0], [2, -1]])\n",
    "\n",
    "# Y calculamos la normal y el determinante utilizando el módulo linalg\n",
    "norm = np.linalg.norm(m)\n",
    "det = np.linalg.det(m)\n",
    "\n",
    "print \"La matriz m es:\", m\n",
    "print \"La norma de m es: \", norm\n",
    "print \"El determinante de m es:\", det"
   ]
  },
  {
   "cell_type": "markdown",
   "metadata": {},
   "source": [
    "### Ejercicio 2\n",
    "Evaluad las funciones arcoseno y arcocoseno en el intervalo [0,1] y con paso (resolución) de 0.1 y guardadlas en dos arrays."
   ]
  },
  {
   "cell_type": "code",
   "execution_count": 11,
   "metadata": {},
   "outputs": [
    {
     "name": "stdout",
     "output_type": "stream",
     "text": [
      "Arcoseno de x para x entre 0 y 1, con paso 0.1:\n",
      "[0.         0.10016742 0.20135792 0.30469265 0.41151685 0.52359878\n",
      " 0.64350111 0.7753975  0.92729522 1.11976951 1.57079633]\n",
      "Arcocoseno de x para x entre 0 y 1, con paso 0.1:\n",
      "[1.57079633 1.47062891 1.36943841 1.26610367 1.15927948 1.04719755\n",
      " 0.92729522 0.79539883 0.64350111 0.45102681 0.        ]\n"
     ]
    }
   ],
   "source": [
    "import numpy as np\n",
    "\n",
    "# Generamos un vector con valores entre 0 y 1 y con paso 0.1. Para ello utilizamos la función arange,\n",
    "# que funciona de forma análoga a la función range vista en anteriores unidades.\n",
    "x = np.arange(0., 1.1, 0.1)\n",
    "\n",
    "# Calculamos el valor del arcocoseno y del arcoseno por cada valor de x utilizando las funciones arcsin y arccos de numpy\n",
    "arcoseno = np.arcsin(x)\n",
    "arcocoseno = np.arccos(x)\n",
    "\n",
    "print \"Arcoseno de x para x entre 0 y 1, con paso 0.1:\"\n",
    "print arcoseno\n",
    "print \"Arcocoseno de x para x entre 0 y 1, con paso 0.1:\"\n",
    "print arcocoseno\n"
   ]
  },
  {
   "cell_type": "markdown",
   "metadata": {},
   "source": [
    "### Ejercicio 4\n",
    "Generad una lista de 100 valores enteros aleatorios de 0-9. Realizad los siguientes cálculos utilizando métodos de _numpy_:\n",
    "- Media y desviación estándar de los valores de la lista\n",
    "- Valor máximo y mínimo\n",
    "- Sumad todos los valores de la lista\n",
    "- Conseguid una lista de valores únicos"
   ]
  },
  {
   "cell_type": "code",
   "execution_count": 33,
   "metadata": {},
   "outputs": [
    {
     "name": "stdout",
     "output_type": "stream",
     "text": [
      "Nuestra lista de valores aleatorios es: [1, 9, 3, 6, 1, 0, 0, 1, 7, 7, 5, 8, 7, 6, 2, 8, 7, 7, 0, 6, 9, 9, 0, 0, 2, 3, 6, 7, 2, 5, 9, 2, 5, 1, 5, 6, 9, 5, 4, 1, 2, 0, 3, 0, 7, 4, 2, 0, 0, 7, 5, 5, 7, 3, 2, 1, 8, 9, 3, 9, 9, 4, 0, 6, 3, 6, 9, 6, 9, 1, 4, 0, 9, 0, 1, 8, 2, 9, 4, 5, 8, 2, 9, 7, 2, 1, 4, 1, 1, 4, 8, 9, 0, 7, 3, 0, 1, 3, 6, 4]\n",
      "Su valor medio es 4.330000, y su desviación estándar es 3.095335\n",
      "Sus valores máximo y mínimo son, respectivamente: 9 y 0\n",
      "El resultado de la suma de todos los valores de la lista es 433\n",
      "Y la lista de valores únicos es [0 1 2 3 4 5 6 7 8 9]\n"
     ]
    }
   ],
   "source": [
    "from random import randint\n",
    "import numpy as np\n",
    "\n",
    "# Utilizamos la función randint del módulo random y list comprehensions para generar la lista, como ya vimos en\n",
    "# unidades anteriores\n",
    "rand_ints = [randint(0, 9) for _ in range(100)]\n",
    "\n",
    "# Para calcular la media y desviación estándar utilizamos las funciones mean y std (standard deviation) respectivamente\n",
    "m = np.mean(rand_ints)\n",
    "std = np.std(rand_ints)\n",
    "\n",
    "print \"Nuestra lista de valores aleatorios es:\", rand_ints\n",
    "print \"Su valor medio es %f, y su desviación estándar es %f\" %(m, std)\n",
    "\n",
    "# Para valores máximo y mínimo, utilizamos max y min\n",
    "max_val = np.max(rand_ints)\n",
    "min_val = np.min(rand_ints)\n",
    "\n",
    "print \"Sus valores máximo y mínimo son, respectivamente: %d y %d\" %(max_val, min_val)\n",
    "\n",
    "# Para sumar todos los elementos de la lista, la función sum\n",
    "sum_values = np.sum(rand_ints)\n",
    "\n",
    "print \"El resultado de la suma de todos los valores de la lista es\", sum_values \n",
    "\n",
    "# Y finalmente para conseguir una lista de valores únicos, la función unique\n",
    "unique_values = np.unique(rand_ints)\n",
    "\n",
    "print \"Y la lista de valores únicos es\", unique_values\n"
   ]
  }
 ],
 "metadata": {
  "kernelspec": {
   "display_name": "Python 3",
   "language": "python",
   "name": "python3"
  },
  "language_info": {
   "codemirror_mode": {
    "name": "ipython",
    "version": 3
   },
   "file_extension": ".py",
   "mimetype": "text/x-python",
   "name": "python",
   "nbconvert_exporter": "python",
   "pygments_lexer": "ipython3",
   "version": "3.7.3"
  }
 },
 "nbformat": 4,
 "nbformat_minor": 1
}
